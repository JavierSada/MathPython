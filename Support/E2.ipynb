{
 "cells": [
  {
   "cell_type": "code",
   "execution_count": 1,
   "metadata": {},
   "outputs": [
    {
     "ename": "SyntaxError",
     "evalue": "invalid syntax (<ipython-input-1-f299f1c0192e>, line 8)",
     "output_type": "error",
     "traceback": [
      "\u001b[1;36m  File \u001b[1;32m\"<ipython-input-1-f299f1c0192e>\"\u001b[1;36m, line \u001b[1;32m8\u001b[0m\n\u001b[1;33m    print int(datetime.timedelta(hours=int(h),minutes=int(m),seconds=int(s)).total_seconds())\u001b[0m\n\u001b[1;37m          ^\u001b[0m\n\u001b[1;31mSyntaxError\u001b[0m\u001b[1;31m:\u001b[0m invalid syntax\n"
     ]
    }
   ],
   "source": [
    "print ('\\nExcercise Module 1 Excercise 3') \n",
    "import re\n",
    "import datetime \n",
    "leave= \"6:52:00\"\n",
    "easy= \"0:08:15\"\n",
    "tempo= \"0:07:12\"\n",
    "h,m,s = re.split(':',leave)\n",
    "print int(datetime.timedelta(hours=int(h),minutes=int(m),seconds=int(s)).total_seconds())\n",
    "h,m,s = re.split(':',easy)\n",
    "print int(datetime.timedelta(hours=int(h),minutes=int(m),seconds=int(s)).total_seconds())\n",
    "h,m,s = re.split(':',tempo)\n",
    "print int(datetime.timedelta(hours=int(h),minutes=int(m),seconds=int(s)).total_seconds())\n",
    "l1= 24720\n",
    "e1= 495\n",
    "t1= 432\n",
    "seconds= (l1+e1+t1+.0)\n",
    "minutes= (seconds/60)*(1.0)\n",
    "hours= (minutes/60)*(1.0)\n",
    "print \"I will get home for breakfast at: \", hours \n",
    "\n",
    "print ('\\nExcercise Module 1 Excercise 3 Variation 2')\n",
    "import datetime\n",
    "\n",
    "start = datetime.datetime(2016, 9, 8, 6, 52, 00) \n",
    "easyPace = datetime.timedelta(seconds=15, minutes=8)\n",
    "tempo = datetime.timedelta(seconds=12, minutes=7)\n",
    "\n",
    "time = start + easyPace + (tempo * 3) + easyPace\n",
    "time = time.strftime(\" %I:%M:%S\")\n",
    "\n",
    "print \"I will get home for breakfast at: \", time\n",
    "\n",
    "print ('\\nExcercise Module 1 Excercise 3 Variation 3')"
   ]
  },
  {
   "cell_type": "code",
   "execution_count": null,
   "metadata": {},
   "outputs": [],
   "source": []
  }
 ],
 "metadata": {
  "kernelspec": {
   "display_name": "Python 3",
   "language": "python",
   "name": "python3"
  },
  "language_info": {
   "codemirror_mode": {
    "name": "ipython",
    "version": 3
   },
   "file_extension": ".py",
   "mimetype": "text/x-python",
   "name": "python",
   "nbconvert_exporter": "python",
   "pygments_lexer": "ipython3",
   "version": "3.8.3"
  }
 },
 "nbformat": 4,
 "nbformat_minor": 4
}
