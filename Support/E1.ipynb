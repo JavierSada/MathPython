{
 "cells": [
  {
   "cell_type": "code",
   "execution_count": 1,
   "metadata": {},
   "outputs": [
    {
     "ename": "SyntaxError",
     "evalue": "Missing parentheses in call to 'print'. Did you mean print(\"The slope is equal to:\", slope)? (<ipython-input-1-889555d3f936>, line 19)",
     "output_type": "error",
     "traceback": [
      "\u001b[1;36m  File \u001b[1;32m\"<ipython-input-1-889555d3f936>\"\u001b[1;36m, line \u001b[1;32m19\u001b[0m\n\u001b[1;33m    print \"The slope is equal to:\", slope\u001b[0m\n\u001b[1;37m          ^\u001b[0m\n\u001b[1;31mSyntaxError\u001b[0m\u001b[1;31m:\u001b[0m Missing parentheses in call to 'print'. Did you mean print(\"The slope is equal to:\", slope)?\n"
     ]
    }
   ],
   "source": [
    "import random\n",
    "import numpy as np\n",
    "import matplotlib.pyplot as plt\n",
    "def f(x):\n",
    "    # A function to generate example y values\n",
    "    r = random.random()\n",
    "    y = x-10*r-x**r\n",
    "    return y\n",
    "random.seed(352) # Ensures that we all generate the same random numbers\n",
    "x_values = np.array(range(1,101)) # Numbers from 1 to 100\n",
    "y_values = np.array([f(x) for x in x_values]) # Get y value for each x value\n",
    "n = len(x_values) # the number of observationsT\n",
    "sumx= np.sum(x_values)\n",
    "sumy= np.sum(y_values)\n",
    "sumx_y=np.sum(x_values*y_values)\n",
    "squarex= np.sum(x_values**2)\n",
    "squarey= np.sum(y_values**2)\n",
    "slope= round((n *(sumx_y)) - (sumx * sumy))/((n * sumx) - sumx**2)\n",
    "print \"The slope is equal to:\", slope \n",
    "b = round(sumy - (slope * sumx))/n\n",
    "print \"The intercept is equal to:\", b\n",
    "plt.plot(x_values, y_values)\n",
    "print \"The best equation is:\", \"+\",(\"y=%s\"%slope+\"x +%s\"%b)"
   ]
  },
  {
   "cell_type": "code",
   "execution_count": null,
   "metadata": {},
   "outputs": [],
   "source": []
  }
 ],
 "metadata": {
  "kernelspec": {
   "display_name": "Python 3",
   "language": "python",
   "name": "python3"
  },
  "language_info": {
   "codemirror_mode": {
    "name": "ipython",
    "version": 3
   },
   "file_extension": ".py",
   "mimetype": "text/x-python",
   "name": "python",
   "nbconvert_exporter": "python",
   "pygments_lexer": "ipython3",
   "version": "3.8.3"
  }
 },
 "nbformat": 4,
 "nbformat_minor": 4
}
